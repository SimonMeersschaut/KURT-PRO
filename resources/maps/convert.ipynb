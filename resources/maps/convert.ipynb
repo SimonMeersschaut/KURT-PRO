{
 "cells": [
  {
   "cell_type": "markdown",
   "id": "b41ff12c",
   "metadata": {},
   "source": [
    "Convert `zones.json` to a format readable by the extention (Leuven only)."
   ]
  },
  {
   "cell_type": "code",
   "execution_count": 1,
   "id": "9da9036f",
   "metadata": {},
   "outputs": [],
   "source": [
    "import json\n",
    "\n",
    "with open(\"zones/zones.json\", \"r\") as f:\n",
    "    data = json.load(f)"
   ]
  },
  {
   "cell_type": "code",
   "execution_count": 11,
   "id": "e45cc28b",
   "metadata": {},
   "outputs": [],
   "source": [
    "LOCATIONS = {\n",
    "    \"2Bergen Arenberg\": \"Arenberg\",\n",
    "    \"2Bergen D\\u00e9sir\\u00e9 Collen\": \"D\\u00e9sir\\u00e9\",\n",
    "    \"Agora Learning Centre\": \"Agora\",\n",
    "    \"Artes Erasmushuis\": \"Erasmushuis\",\n",
    "    \"Law and Criminology Library\": \"Law and Criminology\",\n",
    "    \"Psychology and Educational Sciences Library\": \"Psychology\",\n",
    "    \"Social Sciences Library\": \"Social Sciences\"\n",
    "}\n",
    "\n",
    "def convert_locationname(locationname):\n",
    "    if locationname in LOCATIONS:\n",
    "        return LOCATIONS[locationname]\n",
    "    else:\n",
    "        return locationname"
   ]
  },
  {
   "cell_type": "code",
   "execution_count": 16,
   "id": "35ddae64",
   "metadata": {},
   "outputs": [],
   "source": [
    "ZONENAMES = {\n",
    "    \"Gelijkvloers/Ground floor\": \"Ground floor\",\n",
    "    \"Kelderverdieping/Basement floor\": \"Basement floor\"\n",
    "}\n",
    "\n",
    "def convert_zonename(zonename):\n",
    "    if zonename in ZONENAMES:\n",
    "        return ZONENAMES[zonename]\n",
    "    else:\n",
    "        return zonename"
   ]
  },
  {
   "cell_type": "code",
   "execution_count": 17,
   "id": "7275248d",
   "metadata": {},
   "outputs": [],
   "source": [
    "output = []\n",
    "\n",
    "city_data = data[0]\n",
    "for library_data in city_data[\"libraries\"]:\n",
    "    for zone_data in library_data[\"zones\"]:\n",
    "        output.append({\"locationId\": library_data[\"id\"], \"zoneId\": zone_data[\"id\"], \"name\": convert_locationname(library_data[\"name\"]) + \" - \" + convert_zonename(zone_data[\"name\"])},)"
   ]
  },
  {
   "cell_type": "code",
   "execution_count": 18,
   "id": "9d46092c",
   "metadata": {},
   "outputs": [
    {
     "data": {
      "text/plain": [
       "[{'locationId': 1, 'zoneId': 8, 'name': 'Arenberg - Kelder'},\n",
       " {'locationId': 1, 'zoneId': 9, 'name': 'Arenberg - Tulp 0'},\n",
       " {'locationId': 1, 'zoneId': 10, 'name': 'Arenberg - De leeszaal'},\n",
       " {'locationId': 1, 'zoneId': 11, 'name': 'Arenberg - De boekenzaal'},\n",
       " {'locationId': 1, 'zoneId': 14, 'name': 'Arenberg - De zolder'},\n",
       " {'locationId': 2, 'zoneId': 33, 'name': 'Désiré - Inkom'},\n",
       " {'locationId': 2, 'zoneId': 34, 'name': 'Désiré - Leeszaal'},\n",
       " {'locationId': 2, 'zoneId': 35, 'name': 'Désiré - Back'},\n",
       " {'locationId': 2, 'zoneId': 36, 'name': 'Désiré - Flex'},\n",
       " {'locationId': 10, 'zoneId': 1, 'name': 'Agora - Silent study 1'},\n",
       " {'locationId': 10, 'zoneId': 2, 'name': 'Agora - Silent study 2'},\n",
       " {'locationId': 10, 'zoneId': 4, 'name': 'Agora - Group Study Area'},\n",
       " {'locationId': 3, 'zoneId': 15, 'name': 'Erasmushuis - Ground Floor'},\n",
       " {'locationId': 3, 'zoneId': 16, 'name': 'Erasmushuis - Second floor'},\n",
       " {'locationId': 3, 'zoneId': 17, 'name': 'Erasmushuis - Third floor'},\n",
       " {'locationId': 3, 'zoneId': 18, 'name': 'Erasmushuis - Fourth floor'},\n",
       " {'locationId': 3, 'zoneId': 19, 'name': 'Erasmushuis - Fifth floor'},\n",
       " {'locationId': 3, 'zoneId': 20, 'name': 'Erasmushuis - Sixth floor'},\n",
       " {'locationId': 3, 'zoneId': 21, 'name': 'Erasmushuis - Seventh floor'},\n",
       " {'locationId': 26, 'zoneId': 24, 'name': 'Law and Criminology - Zaal 1A'},\n",
       " {'locationId': 26, 'zoneId': 25, 'name': 'Law and Criminology - Zaal 1B'},\n",
       " {'locationId': 26, 'zoneId': 27, 'name': 'Law and Criminology - Zaal 2A'},\n",
       " {'locationId': 26, 'zoneId': 28, 'name': 'Law and Criminology - Zaal 2B'},\n",
       " {'locationId': 26, 'zoneId': 29, 'name': 'Law and Criminology - Zaal 2C'},\n",
       " {'locationId': 26, 'zoneId': 30, 'name': 'Law and Criminology - Zaal 2BC'},\n",
       " {'locationId': 16, 'zoneId': 22, 'name': 'Psychology - Ground floor'},\n",
       " {'locationId': 16, 'zoneId': 23, 'name': 'Psychology - Basement floor'},\n",
       " {'locationId': 12, 'zoneId': 48, 'name': 'Social Sciences - Communication'},\n",
       " {'locationId': 12, 'zoneId': 49, 'name': 'Social Sciences - Anthropology'},\n",
       " {'locationId': 12, 'zoneId': 50, 'name': 'Social Sciences - Sociology'},\n",
       " {'locationId': 12,\n",
       "  'zoneId': 51,\n",
       "  'name': 'Social Sciences - Political Sciences'},\n",
       " {'locationId': 12, 'zoneId': 52, 'name': 'Social Sciences - Basement'},\n",
       " {'locationId': 12, 'zoneId': 53, 'name': 'Social Sciences - PC-room'}]"
      ]
     },
     "execution_count": 18,
     "metadata": {},
     "output_type": "execute_result"
    }
   ],
   "source": [
    "output"
   ]
  },
  {
   "cell_type": "code",
   "execution_count": 19,
   "id": "6c5788ef",
   "metadata": {},
   "outputs": [],
   "source": [
    "with open(\"zones.json\", 'w') as f:\n",
    "    json.dump(output, f)"
   ]
  }
 ],
 "metadata": {
  "kernelspec": {
   "display_name": "Python 3",
   "language": "python",
   "name": "python3"
  },
  "language_info": {
   "codemirror_mode": {
    "name": "ipython",
    "version": 3
   },
   "file_extension": ".py",
   "mimetype": "text/x-python",
   "name": "python",
   "nbconvert_exporter": "python",
   "pygments_lexer": "ipython3",
   "version": "3.12.6"
  }
 },
 "nbformat": 4,
 "nbformat_minor": 5
}
