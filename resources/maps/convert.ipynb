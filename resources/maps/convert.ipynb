{
 "cells": [
  {
   "cell_type": "markdown",
   "id": "b41ff12c",
   "metadata": {},
   "source": [
    "Convert `zones.json` to a format readable by the extention (Leuven only)."
   ]
  },
  {
   "cell_type": "code",
   "execution_count": 7,
   "id": "9da9036f",
   "metadata": {},
   "outputs": [],
   "source": [
    "import json\n",
    "\n",
    "with open(\"zones/zones.json\", \"r\") as f:\n",
    "    data = json.load(f)"
   ]
  },
  {
   "cell_type": "code",
   "execution_count": 8,
   "id": "7275248d",
   "metadata": {},
   "outputs": [],
   "source": [
    "output = []\n",
    "\n",
    "city_data = data[0]\n",
    "for library_data in city_data[\"libraries\"]:\n",
    "    for zone_data in library_data[\"zones\"]:\n",
    "        output.append({\"locationId\": library_data[\"id\"], \"zoneId\": zone_data[\"id\"], \"name\": library_data[\"name\"] + \" - \" + zone_data[\"name\"]},)"
   ]
  },
  {
   "cell_type": "code",
   "execution_count": 9,
   "id": "9d46092c",
   "metadata": {},
   "outputs": [
    {
     "data": {
      "text/plain": [
       "[{'locationId': 1, 'zoneId': 8, 'name': '2Bergen Arenberg - Kelder'},\n",
       " {'locationId': 1, 'zoneId': 9, 'name': '2Bergen Arenberg - Tulp 0'},\n",
       " {'locationId': 1, 'zoneId': 10, 'name': '2Bergen Arenberg - De leeszaal'},\n",
       " {'locationId': 1, 'zoneId': 11, 'name': '2Bergen Arenberg - De boekenzaal'},\n",
       " {'locationId': 1, 'zoneId': 14, 'name': '2Bergen Arenberg - De zolder'},\n",
       " {'locationId': 2, 'zoneId': 33, 'name': '2Bergen Désiré Collen - Inkom'},\n",
       " {'locationId': 2, 'zoneId': 34, 'name': '2Bergen Désiré Collen - Leeszaal'},\n",
       " {'locationId': 2, 'zoneId': 35, 'name': '2Bergen Désiré Collen - Back'},\n",
       " {'locationId': 2, 'zoneId': 36, 'name': '2Bergen Désiré Collen - Flex'},\n",
       " {'locationId': 10,\n",
       "  'zoneId': 1,\n",
       "  'name': 'Agora Learning Centre - Silent study 1'},\n",
       " {'locationId': 10,\n",
       "  'zoneId': 2,\n",
       "  'name': 'Agora Learning Centre - Silent study 2'},\n",
       " {'locationId': 10,\n",
       "  'zoneId': 4,\n",
       "  'name': 'Agora Learning Centre - Group Study Area'},\n",
       " {'locationId': 3, 'zoneId': 15, 'name': 'Artes Erasmushuis - Ground Floor'},\n",
       " {'locationId': 3, 'zoneId': 16, 'name': 'Artes Erasmushuis - Second floor'},\n",
       " {'locationId': 3, 'zoneId': 17, 'name': 'Artes Erasmushuis - Third floor'},\n",
       " {'locationId': 3, 'zoneId': 18, 'name': 'Artes Erasmushuis - Fourth floor'},\n",
       " {'locationId': 3, 'zoneId': 19, 'name': 'Artes Erasmushuis - Fifth floor'},\n",
       " {'locationId': 3, 'zoneId': 20, 'name': 'Artes Erasmushuis - Sixth floor'},\n",
       " {'locationId': 3, 'zoneId': 21, 'name': 'Artes Erasmushuis - Seventh floor'},\n",
       " {'locationId': 26,\n",
       "  'zoneId': 24,\n",
       "  'name': 'Law and Criminology Library - Zaal 1A'},\n",
       " {'locationId': 26,\n",
       "  'zoneId': 25,\n",
       "  'name': 'Law and Criminology Library - Zaal 1B'},\n",
       " {'locationId': 26,\n",
       "  'zoneId': 27,\n",
       "  'name': 'Law and Criminology Library - Zaal 2A'},\n",
       " {'locationId': 26,\n",
       "  'zoneId': 28,\n",
       "  'name': 'Law and Criminology Library - Zaal 2B'},\n",
       " {'locationId': 26,\n",
       "  'zoneId': 29,\n",
       "  'name': 'Law and Criminology Library - Zaal 2C'},\n",
       " {'locationId': 26,\n",
       "  'zoneId': 30,\n",
       "  'name': 'Law and Criminology Library - Zaal 2BC'},\n",
       " {'locationId': 16,\n",
       "  'zoneId': 22,\n",
       "  'name': 'Psychology and Educational Sciences Library - Gelijkvloers/Ground floor'},\n",
       " {'locationId': 16,\n",
       "  'zoneId': 23,\n",
       "  'name': 'Psychology and Educational Sciences Library - Kelderverdieping/Basement floor'},\n",
       " {'locationId': 12,\n",
       "  'zoneId': 48,\n",
       "  'name': 'Social Sciences Library - Communication'},\n",
       " {'locationId': 12,\n",
       "  'zoneId': 49,\n",
       "  'name': 'Social Sciences Library - Anthropology'},\n",
       " {'locationId': 12,\n",
       "  'zoneId': 50,\n",
       "  'name': 'Social Sciences Library - Sociology'},\n",
       " {'locationId': 12,\n",
       "  'zoneId': 51,\n",
       "  'name': 'Social Sciences Library - Political Sciences'},\n",
       " {'locationId': 12,\n",
       "  'zoneId': 52,\n",
       "  'name': 'Social Sciences Library - Basement'},\n",
       " {'locationId': 12, 'zoneId': 53, 'name': 'Social Sciences Library - PC-room'}]"
      ]
     },
     "execution_count": 9,
     "metadata": {},
     "output_type": "execute_result"
    }
   ],
   "source": [
    "output"
   ]
  },
  {
   "cell_type": "code",
   "execution_count": 10,
   "id": "6c5788ef",
   "metadata": {},
   "outputs": [],
   "source": [
    "with open(\"zones.json\", 'w') as f:\n",
    "    json.dump(output, f)"
   ]
  }
 ],
 "metadata": {
  "kernelspec": {
   "display_name": "Python 3",
   "language": "python",
   "name": "python3"
  },
  "language_info": {
   "codemirror_mode": {
    "name": "ipython",
    "version": 3
   },
   "file_extension": ".py",
   "mimetype": "text/x-python",
   "name": "python",
   "nbconvert_exporter": "python",
   "pygments_lexer": "ipython3",
   "version": "3.12.6"
  }
 },
 "nbformat": 4,
 "nbformat_minor": 5
}
